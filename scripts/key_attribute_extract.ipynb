{
 "cells": [
  {
   "cell_type": "code",
   "execution_count": 1,
   "metadata": {},
   "outputs": [],
   "source": [
    "import caffe\n",
    "import os"
   ]
  },
  {
   "cell_type": "code",
   "execution_count": 2,
   "metadata": {},
   "outputs": [],
   "source": [
    "num_points = 8\n",
    "\n",
    "model_stage1 = '../models/FLD_full/stage1.prototxt'\n",
    "assert(os.path.exists(model_stage1))\n",
    "weights_stage1 = '../models/FLD_full/FLD_full_models/stage1.caffemodel'\n",
    "assert(os.path.exists(weights_stage1))\n",
    "\n",
    "model_stage2 = '../models/FLD_full/cascade.prototxt'\n",
    "assert(os.path.exists(model_stage2))\n",
    "weights_stage2 = '../models/FLD_full/FLD_full_models/stage2.caffemodel'\n",
    "assert(os.path.exists(weights_stage2))\n",
    "\n",
    "model_stage3 = '../models/FLD_full/cascade.prototxt'\n",
    "assert(os.path.exists(model_stage3))\n",
    "weights_stage3_easy = '../models/FLD_full/FLD_full_models/stage3_easy.caffemodel'\n",
    "assert(os.path.exists(weights_stage3_easy))\n",
    "weights_stage3_hard = '../models/FLD_full/FLD_full_models/stage3_hard.caffemodel'\n",
    "assert(os.path.exists(weights_stage3_hard))"
   ]
  },
  {
   "cell_type": "code",
   "execution_count": 3,
   "metadata": {},
   "outputs": [],
   "source": [
    "# caffe prepare\n",
    "caffe.set_mode_gpu()\n",
    "caffe.set_device(0)"
   ]
  },
  {
   "cell_type": "code",
   "execution_count": 4,
   "metadata": {},
   "outputs": [],
   "source": [
    "# create net and load weights\n",
    "net_stage1 = caffe.Net(model_stage1, weights_stage1, caffe.TEST); \n",
    "net_stage2 = caffe.Net(model_stage2, weights_stage2, caffe.TEST);\n",
    "net_stage3_easy = caffe.Net(model_stage3, weights_stage3_easy, caffe.TEST);\n",
    "net_stage3_hard = caffe.Net(model_stage3, weights_stage3_hard, caffe.TEST);\n",
    "pipeline = {\n",
    "    'num_points': num_points,\n",
    "    'net_stage1': net_stage1,\n",
    "    'net_stage2': net_stage2,\n",
    "    'net_stage3_easy': net_stage3_easy,\n",
    "    'net_stage3_hard': net_stage3_hard\n",
    "}"
   ]
  },
  {
   "cell_type": "code",
   "execution_count": 5,
   "metadata": {},
   "outputs": [],
   "source": [
    "image_path = '../data/FLD_full/'"
   ]
  },
  {
   "cell_type": "code",
   "execution_count": null,
   "metadata": {},
   "outputs": [],
   "source": [
    "# network processing\n",
    "# http://caffe.berkeleyvision.org/tutorial/interfaces.html\n",
    "# http://christopher5106.github.io/deep/learning/2015/09/04/Deep-learning-tutorial-on-Caffe-Technology.html"
   ]
  },
  {
   "cell_type": "code",
   "execution_count": null,
   "metadata": {},
   "outputs": [],
   "source": [
    "# release resource\n",
    "caffe"
   ]
  }
 ],
 "metadata": {
  "kernelspec": {
   "display_name": "Environment (conda_caffe_p35)",
   "language": "python",
   "name": "conda_caffe_p35"
  },
  "language_info": {
   "codemirror_mode": {
    "name": "ipython",
    "version": 3
   },
   "file_extension": ".py",
   "mimetype": "text/x-python",
   "name": "python",
   "nbconvert_exporter": "python",
   "pygments_lexer": "ipython3",
   "version": "3.5.5"
  }
 },
 "nbformat": 4,
 "nbformat_minor": 2
}
